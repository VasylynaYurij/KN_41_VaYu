{
 "cells": [
  {
   "cell_type": "code",
   "execution_count": 1,
   "metadata": {},
   "outputs": [
    {
     "name": "stdout",
     "output_type": "stream",
     "text": [
      "Yurij start programming at 2024-10-01 10:42:11.247688. Lviv is the best city!\n"
     ]
    }
   ],
   "source": [
    "from datetime import datetime\n",
    "name = \"Yurij\"\n",
    "location = \"Lviv\"\n",
    "\n",
    "print(f\"{name} start programming at {datetime.now()}. {location} is the best city!\")"
   ]
  },
  {
   "cell_type": "code",
   "execution_count": 2,
   "metadata": {},
   "outputs": [
    {
     "name": "stdout",
     "output_type": "stream",
     "text": [
      "Hello, world!\n",
      "Python is fun.\n",
      "Let's write some code.\n",
      "Coding improves problem-solving skills.\n",
      "Practice makes perfect.\n",
      "Stay curious and keep learning.\n"
     ]
    }
   ],
   "source": [
    "def print_statements():\n",
    "    statements = [\n",
    "        \"Hello, world!\",\n",
    "        \"Python is fun.\",\n",
    "        \"Let's write some code.\",\n",
    "        \"Coding improves problem-solving skills.\",\n",
    "        \"Practice makes perfect.\",\n",
    "        \"Stay curious and keep learning.\"\n",
    "    ]\n",
    "    \n",
    "    # Виводить перші три рядки\n",
    "    for i in range(6):\n",
    "        print(statements[i])\n",
    "\n",
    "print_statements()\n"
   ]
  }
 ],
 "metadata": {
  "kernelspec": {
   "display_name": "Python 3",
   "language": "python",
   "name": "python3"
  },
  "language_info": {
   "codemirror_mode": {
    "name": "ipython",
    "version": 3
   },
   "file_extension": ".py",
   "mimetype": "text/x-python",
   "name": "python",
   "nbconvert_exporter": "python",
   "pygments_lexer": "ipython3",
   "version": "3.12.6"
  }
 },
 "nbformat": 4,
 "nbformat_minor": 2
}
