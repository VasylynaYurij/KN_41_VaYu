{
 "cells": [
  {
   "cell_type": "code",
   "execution_count": 9,
   "metadata": {},
   "outputs": [
    {
     "name": "stdout",
     "output_type": "stream",
     "text": [
      "змінна з текстом 1 1.1 ['a', 1, 1.25, 'Слово', 'змінна з текстом'] {'a': 'Слово', 'b': 1, 'змінна з текстом': 1} ('a', 'змінна з текстом') {'змінна з текстом1', 'ss'}\n"
     ]
    }
   ],
   "source": [
    "a = \"змінна з текстом\"  # Змінна з текстом\n",
    "b = 1  # Числова змінна\n",
    "b1 = 1.1  # Числова змінна з плаваючою комою\n",
    "c = [\"a\", 1, 1.25, \"Слово\", a]  # Список (List)\n",
    "d = {\"a\": \"Слово\", \"b\": 1, a: b}  # Словник (Dict)\n",
    "e = (\"a\", a)  # Кортеж (Tuple)\n",
    "\n",
    "# Виправлено: перетворення числової змінної b на рядок для конкатенації\n",
    "f = {\"ss\", a + str(b)}  # Множина (Set), що містить текст та об’єднану змінну\n",
    "\n",
    "print(a, b, b1, c, d, e, f)  # Друк значень усіх змінних для перевірки\n"
   ]
  },
  {
   "cell_type": "code",
   "execution_count": 10,
   "metadata": {},
   "outputs": [
    {
     "name": "stdout",
     "output_type": "stream",
     "text": [
      "Перша константа:  True\n",
      "І можна так робити вивід? True\n"
     ]
    }
   ],
   "source": [
    "print(\"Перша константа: \", True)\n",
    "print(f\"І можна так робити вивід? {True}\")"
   ]
  },
  {
   "cell_type": "code",
   "execution_count": 11,
   "metadata": {},
   "outputs": [
    {
     "name": "stdout",
     "output_type": "stream",
     "text": [
      "12.5 є рівним 12.5\n"
     ]
    }
   ],
   "source": [
    "print(abs(-12.5), f\"є рівним {abs(12.5)}\")"
   ]
  },
  {
   "cell_type": "code",
   "execution_count": 12,
   "metadata": {},
   "outputs": [
    {
     "name": "stdout",
     "output_type": "stream",
     "text": [
      "На позиції 0 знаходиться буква a\n",
      "На позиції 1 знаходиться буква b\n",
      "На позиції 2 знаходиться буква c\n"
     ]
    }
   ],
   "source": [
    "letters = [\"a\", \"b\", \"c\"]\n",
    "for i in range(len(letters)):\n",
    "    print(f\"На позиції {i} знаходиться буква {letters[i]}\")"
   ]
  },
  {
   "cell_type": "code",
   "execution_count": 13,
   "metadata": {},
   "outputs": [
    {
     "name": "stdout",
     "output_type": "stream",
     "text": [
      "Значить А=True\n"
     ]
    }
   ],
   "source": [
    "A = True\n",
    "print(\"Значить А=True\" if A else \"Значить А=False\")"
   ]
  },
  {
   "cell_type": "code",
   "execution_count": 14,
   "metadata": {},
   "outputs": [
    {
     "name": "stdout",
     "output_type": "stream",
     "text": [
      "division by zero\n",
      "А вот воно що!\n"
     ]
    }
   ],
   "source": [
    "A = 0\n",
    "try:\n",
    "    print(\"Що буде якщо\", 10/A, \"?\")\n",
    "except Exception as e:\n",
    "    print(e)\n",
    "finally:\n",
    "    print(\"А вот воно що!\")"
   ]
  },
  {
   "cell_type": "code",
   "execution_count": 19,
   "metadata": {},
   "outputs": [
    {
     "name": "stdout",
     "output_type": "stream",
     "text": [
      "# Звіт до роботи 2\n",
      "\n",
      "## Тема: основи програмування на Python\n",
      "\n",
      "### Мета роботи: детальніше розглянути вміст та особливості мови програмування Python; виконати задані завдання та попрактикуватись із написанням коду.\n",
      "\n",
      "\n",
      "\n",
      "---\n",
      "\n",
      "## Виконання роботи\n",
      "\n",
      "* ### Результати виконання завдань:\n",
      "\n",
      "    1. Виконав приклади коду на Python, представлені у фалі під назвою  [project_overview.ipynb](./project_overview.ipynb);\n",
      "\n",
      "    1. Попросивши ChatGPT надати приклади коду, з інформацією про основи Python, змінні, функції, списки та їх обробка, оформив [конспект](GPT_conspect.ipynb). \n",
      "\n",
      "    1. Ось [скріншот 1](image-1.png) та [скріншот 2](image-2.png) правильного виконання коду, та його роботоздатність.\n",
      "\n",
      "\n",
      "\n",
      "---\n",
      "\n",
      "\n",
      "\n",
      "## Висновок:\n",
      "\n",
      "\n",
      "\n",
      "- . \n",
      "\n",
      "- .\n",
      "\n",
      "- . \n",
      "\n",
      "- .\n",
      "\n",
      "- .\n",
      "\n",
      "- .\n",
      "\n",
      "- .\n",
      "\n",
      "\n",
      "\n",
      "---\n"
     ]
    }
   ],
   "source": [
    "with open(\"README.md\", \"r\", encoding=\"utf-8\") as f:\n",
    "    for line in f:\n",
    "        print(line)\n"
   ]
  },
  {
   "cell_type": "code",
   "execution_count": 18,
   "metadata": {},
   "outputs": [
    {
     "name": "stdout",
     "output_type": "stream",
     "text": [
      "Це просто функція: <function <lambda> at 0x00000213CF17D120>\n",
      "Це її виклик: Цей код написав: Юрій Донован\n"
     ]
    }
   ],
   "source": [
    "this_is_lambda = lambda first, last: f'Цей код написав: {first} {last}'\n",
    "print(\"Це просто функція:\", this_is_lambda)\n",
    "print(\"Це її виклик:\", this_is_lambda('Юрій', 'Донован'))"
   ]
  }
 ],
 "metadata": {
  "kernelspec": {
   "display_name": "Python 3",
   "language": "python",
   "name": "python3"
  },
  "language_info": {
   "codemirror_mode": {
    "name": "ipython",
    "version": 3
   },
   "file_extension": ".py",
   "mimetype": "text/x-python",
   "name": "python",
   "nbconvert_exporter": "python",
   "pygments_lexer": "ipython3",
   "version": "3.12.6"
  }
 },
 "nbformat": 4,
 "nbformat_minor": 2
}
