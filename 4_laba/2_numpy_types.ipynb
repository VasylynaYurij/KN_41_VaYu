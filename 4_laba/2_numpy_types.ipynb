{
 "cells": [
  {
   "cell_type": "markdown",
   "metadata": {},
   "source": [
    "# Структуровані масиви даних"
   ]
  },
  {
   "cell_type": "code",
   "execution_count": 1,
   "metadata": {},
   "outputs": [],
   "source": [
    "def homework(message):\n",
    "    print(\"\\n>>>>>\", message, \"\\n\")\n",
    "import numpy as np"
   ]
  },
  {
   "cell_type": "markdown",
   "metadata": {},
   "source": [
    "# Визначення однорідного масиву"
   ]
  },
  {
   "cell_type": "code",
   "execution_count": 2,
   "metadata": {},
   "outputs": [
    {
     "name": "stdout",
     "output_type": "stream",
     "text": [
      "Отриманий масив має вигляд:\n",
      "array([[ 3,  8,  9],\n",
      "       [ 1, -7,  0],\n",
      "       [ 4, 12,  4]], dtype=int8)\n",
      "Отриманий масив має вигляд:\n",
      "array([[ 3.4,  8.7,  9.9],\n",
      "       [ 1.1, -7.8, -0.7],\n",
      "       [ 4.1, 12.3,  4.8]], dtype=float16)\n",
      "\n",
      ">>>>> Згадуючи ООП, що робить функція repr? \n",
      "\n",
      "Функція repr() в Python використовується для отримання формального рядкового представлення об'єкта, яке може бути використано для відтворення об'єкта за допомогою eval. Вона намагається надати таке уявлення, яке максимально точно відображає стан об'єкта. Для масиву np.array це буде вигляд, який включає тип даних, всі елементи і форму масиву.\n",
      "\n",
      ">>>>> У чому різниця між масивами A i B? \n",
      "\n",
      "Різниця між масивами A та B полягає в типах даних:\n",
      "- Масив A має тип даних np.int8, що означає, що всі елементи будуть округлені до цілих чисел, і значення після десяткової крапки будуть втрачатися.\n",
      "- Масив B має тип даних np.float16, що дозволяє зберігати числа з плаваючою точкою, зберігаючи точність до 16 біт. Це дозволяє зберігати дробові значення з більшою точністю, ніж в масиві A.\n"
     ]
    }
   ],
   "source": [
    "import numpy as np\n",
    "lst = [ [3.4, 8.7, 9.9], \n",
    "        [1.1, -7.8, -0.7],\n",
    "        [4.1, 12.3, 4.8] ]\n",
    "\n",
    "A = np.array(lst, dtype=np.int8)\n",
    "print(f\"Отриманий масив має вигляд:\\n{repr(A)}\")\n",
    "B = np.array(lst, dtype=np.float16)\n",
    "print(f\"Отриманий масив має вигляд:\\n{repr(B)}\")\n",
    "\n",
    "# Homework\n",
    "homework(\"Згадуючи ООП, що робить функція repr?\")\n",
    "print(\"Функція repr() в Python використовується для отримання формального рядкового представлення об'єкта, \"\n",
    "      \"яке може бути використано для відтворення об'єкта за допомогою eval. Вона намагається надати таке уявлення, \"\n",
    "      \"яке максимально точно відображає стан об'єкта. Для масиву np.array це буде вигляд, який включає тип даних, \"\n",
    "      \"всі елементи і форму масиву.\")\n",
    "\n",
    "homework(\"У чому різниця між масивами A i B?\")\n",
    "print(\"Різниця між масивами A та B полягає в типах даних:\\n\"\n",
    "      \"- Масив A має тип даних np.int8, що означає, що всі елементи будуть округлені до цілих чисел, і значення після \"\n",
    "      \"десяткової крапки будуть втрачатися.\\n\"\n",
    "      \"- Масив B має тип даних np.float16, що дозволяє зберігати числа з плаваючою точкою, зберігаючи точність до 16 біт. \"\n",
    "      \"Це дозволяє зберігати дробові значення з більшою точністю, ніж в масиві A.\")"
   ]
  },
  {
   "cell_type": "markdown",
   "metadata": {},
   "source": [
    "# Задаємо свій тип даних"
   ]
  },
  {
   "cell_type": "code",
   "execution_count": null,
   "metadata": {},
   "outputs": [
    {
     "ename": "AttributeError",
     "evalue": "`np.compat` was removed in the NumPy 2.0 release. There's no replacement, as Python 2 is no longer supported.",
     "output_type": "error",
     "traceback": [
      "\u001b[1;31m---------------------------------------------------------------------------\u001b[0m",
      "\u001b[1;31mAttributeError\u001b[0m                            Traceback (most recent call last)",
      "Cell \u001b[1;32mIn[4], line 2\u001b[0m\n\u001b[0;32m      1\u001b[0m \u001b[38;5;28;01mimport\u001b[39;00m \u001b[38;5;21;01mnumpy\u001b[39;00m \u001b[38;5;28;01mas\u001b[39;00m \u001b[38;5;21;01mnp\u001b[39;00m\n\u001b[1;32m----> 2\u001b[0m dt \u001b[38;5;241m=\u001b[39m np\u001b[38;5;241m.\u001b[39mdtype([(\u001b[38;5;124m'\u001b[39m\u001b[38;5;124mname\u001b[39m\u001b[38;5;124m'\u001b[39m, \u001b[43mnp\u001b[49m\u001b[38;5;241;43m.\u001b[39;49m\u001b[43mcompat\u001b[49m\u001b[38;5;241m.\u001b[39municode, \u001b[38;5;241m20\u001b[39m), (\u001b[38;5;124m'\u001b[39m\u001b[38;5;124mmark\u001b[39m\u001b[38;5;124m'\u001b[39m, np\u001b[38;5;241m.\u001b[39mint8)])\n\u001b[0;32m      3\u001b[0m arr \u001b[38;5;241m=\u001b[39m [\n\u001b[0;32m      4\u001b[0m     (\u001b[38;5;124m\"\u001b[39m\u001b[38;5;124mBohdan\u001b[39m\u001b[38;5;124m\"\u001b[39m, \u001b[38;5;241m4\u001b[39m), \n\u001b[0;32m      5\u001b[0m     (\u001b[38;5;124m\"\u001b[39m\u001b[38;5;124mMarta\u001b[39m\u001b[38;5;124m\"\u001b[39m, \u001b[38;5;241m5\u001b[39m),\n\u001b[0;32m      6\u001b[0m     (\u001b[38;5;124m\"\u001b[39m\u001b[38;5;124mNoname\u001b[39m\u001b[38;5;124m\"\u001b[39m, \u001b[38;5;241m0\u001b[39m)\n\u001b[0;32m      7\u001b[0m     ]\n\u001b[0;32m      8\u001b[0m C \u001b[38;5;241m=\u001b[39m np\u001b[38;5;241m.\u001b[39marray(arr, dtype\u001b[38;5;241m=\u001b[39mdt)\n",
      "File \u001b[1;32md:\\Python\\Lib\\site-packages\\numpy\\__init__.py:413\u001b[0m, in \u001b[0;36m__getattr__\u001b[1;34m(attr)\u001b[0m\n\u001b[0;32m    410\u001b[0m     \u001b[38;5;28;01mraise\u001b[39;00m \u001b[38;5;167;01mAttributeError\u001b[39;00m(__former_attrs__[attr], name\u001b[38;5;241m=\u001b[39m\u001b[38;5;28;01mNone\u001b[39;00m)\n\u001b[0;32m    412\u001b[0m \u001b[38;5;28;01mif\u001b[39;00m attr \u001b[38;5;129;01min\u001b[39;00m __expired_attributes__:\n\u001b[1;32m--> 413\u001b[0m     \u001b[38;5;28;01mraise\u001b[39;00m \u001b[38;5;167;01mAttributeError\u001b[39;00m(\n\u001b[0;32m    414\u001b[0m         \u001b[38;5;124mf\u001b[39m\u001b[38;5;124m\"\u001b[39m\u001b[38;5;124m`np.\u001b[39m\u001b[38;5;132;01m{\u001b[39;00mattr\u001b[38;5;132;01m}\u001b[39;00m\u001b[38;5;124m` was removed in the NumPy 2.0 release. \u001b[39m\u001b[38;5;124m\"\u001b[39m\n\u001b[0;32m    415\u001b[0m         \u001b[38;5;124mf\u001b[39m\u001b[38;5;124m\"\u001b[39m\u001b[38;5;132;01m{\u001b[39;00m__expired_attributes__[attr]\u001b[38;5;132;01m}\u001b[39;00m\u001b[38;5;124m\"\u001b[39m,\n\u001b[0;32m    416\u001b[0m         name\u001b[38;5;241m=\u001b[39m\u001b[38;5;28;01mNone\u001b[39;00m\n\u001b[0;32m    417\u001b[0m     )\n\u001b[0;32m    419\u001b[0m \u001b[38;5;28;01mif\u001b[39;00m attr \u001b[38;5;241m==\u001b[39m \u001b[38;5;124m\"\u001b[39m\u001b[38;5;124mchararray\u001b[39m\u001b[38;5;124m\"\u001b[39m:\n\u001b[0;32m    420\u001b[0m     warnings\u001b[38;5;241m.\u001b[39mwarn(\n\u001b[0;32m    421\u001b[0m         \u001b[38;5;124m\"\u001b[39m\u001b[38;5;124m`np.chararray` is deprecated and will be removed from \u001b[39m\u001b[38;5;124m\"\u001b[39m\n\u001b[0;32m    422\u001b[0m         \u001b[38;5;124m\"\u001b[39m\u001b[38;5;124mthe main namespace in the future. Use an array with a string \u001b[39m\u001b[38;5;124m\"\u001b[39m\n\u001b[0;32m    423\u001b[0m         \u001b[38;5;124m\"\u001b[39m\u001b[38;5;124mor bytes dtype instead.\u001b[39m\u001b[38;5;124m\"\u001b[39m, \u001b[38;5;167;01mDeprecationWarning\u001b[39;00m, stacklevel\u001b[38;5;241m=\u001b[39m\u001b[38;5;241m2\u001b[39m)\n",
      "\u001b[1;31mAttributeError\u001b[0m: `np.compat` was removed in the NumPy 2.0 release. There's no replacement, as Python 2 is no longer supported."
     ]
    }
   ],
   "source": [
    "import numpy as np\n",
    "dt = np.dtype([('name', np.compat.unicode, 20), ('mark', np.int8)])\n",
    "arr = [\n",
    "    (\"Bohdan\", 4), \n",
    "    (\"Marta\", 5),\n",
    "    (\"Noname\", 0)\n",
    "    ]\n",
    "C = np.array(arr, dtype=dt)\n",
    "print(f\"Отриманий масив має вигляд:\\n{C}\")\n",
    "print(f\"Доступитись до певної колонки тепер можна за її іменем: {C['mark']}\")\n",
    "\n",
    "# Homework\n",
    "homework(\"Як вивести всі імена присутні в даному масиві?\")\n",
    "print(f\"Всі імена: {C['name']}\")"
   ]
  },
  {
   "cell_type": "markdown",
   "metadata": {},
   "source": [
    "# Запис та зчитування з файлу, формат CSV"
   ]
  },
  {
   "cell_type": "code",
   "execution_count": 5,
   "metadata": {},
   "outputs": [
    {
     "ename": "AttributeError",
     "evalue": "`np.compat` was removed in the NumPy 2.0 release. There's no replacement, as Python 2 is no longer supported.",
     "output_type": "error",
     "traceback": [
      "\u001b[1;31m---------------------------------------------------------------------------\u001b[0m",
      "\u001b[1;31mAttributeError\u001b[0m                            Traceback (most recent call last)",
      "Cell \u001b[1;32mIn[5], line 5\u001b[0m\n\u001b[0;32m      2\u001b[0m \u001b[38;5;28;01mimport\u001b[39;00m \u001b[38;5;21;01mos\u001b[39;00m\n\u001b[0;32m      4\u001b[0m \u001b[38;5;66;03m# Створення dtype з додатковим полем 'group'\u001b[39;00m\n\u001b[1;32m----> 5\u001b[0m dt \u001b[38;5;241m=\u001b[39m np\u001b[38;5;241m.\u001b[39mdtype([(\u001b[38;5;124m'\u001b[39m\u001b[38;5;124mname\u001b[39m\u001b[38;5;124m'\u001b[39m, \u001b[43mnp\u001b[49m\u001b[38;5;241;43m.\u001b[39;49m\u001b[43mcompat\u001b[49m\u001b[38;5;241m.\u001b[39municode, \u001b[38;5;241m20\u001b[39m), (\u001b[38;5;124m'\u001b[39m\u001b[38;5;124mmark\u001b[39m\u001b[38;5;124m'\u001b[39m, np\u001b[38;5;241m.\u001b[39mint8), (\u001b[38;5;124m'\u001b[39m\u001b[38;5;124mgroup\u001b[39m\u001b[38;5;124m'\u001b[39m, np\u001b[38;5;241m.\u001b[39mcompat\u001b[38;5;241m.\u001b[39municode, \u001b[38;5;241m10\u001b[39m)])\n\u001b[0;32m      7\u001b[0m \u001b[38;5;66;03m# Масив з іменами, оцінками та групами\u001b[39;00m\n\u001b[0;32m      8\u001b[0m arr \u001b[38;5;241m=\u001b[39m [\n\u001b[0;32m      9\u001b[0m     (\u001b[38;5;124m\"\u001b[39m\u001b[38;5;124mBohdan\u001b[39m\u001b[38;5;124m\"\u001b[39m, \u001b[38;5;241m4\u001b[39m, \u001b[38;5;124m\"\u001b[39m\u001b[38;5;124mK-41\u001b[39m\u001b[38;5;124m\"\u001b[39m),\n\u001b[0;32m     10\u001b[0m     (\u001b[38;5;124m\"\u001b[39m\u001b[38;5;124mMarta\u001b[39m\u001b[38;5;124m\"\u001b[39m, \u001b[38;5;241m5\u001b[39m, \u001b[38;5;124m\"\u001b[39m\u001b[38;5;124mK-42\u001b[39m\u001b[38;5;124m\"\u001b[39m),\n\u001b[0;32m     11\u001b[0m     (\u001b[38;5;124m\"\u001b[39m\u001b[38;5;124mNoname\u001b[39m\u001b[38;5;124m\"\u001b[39m, \u001b[38;5;241m0\u001b[39m, \u001b[38;5;124m\"\u001b[39m\u001b[38;5;124mK-43\u001b[39m\u001b[38;5;124m\"\u001b[39m),\n\u001b[0;32m     12\u001b[0m     (\u001b[38;5;124m\"\u001b[39m\u001b[38;5;124mVasylina\u001b[39m\u001b[38;5;124m\"\u001b[39m, \u001b[38;5;241m5\u001b[39m, \u001b[38;5;124m\"\u001b[39m\u001b[38;5;124mK-41\u001b[39m\u001b[38;5;124m\"\u001b[39m)  \u001b[38;5;66;03m# Моє ім'я, оцінка та група\u001b[39;00m\n\u001b[0;32m     13\u001b[0m ]\n",
      "File \u001b[1;32md:\\Python\\Lib\\site-packages\\numpy\\__init__.py:413\u001b[0m, in \u001b[0;36m__getattr__\u001b[1;34m(attr)\u001b[0m\n\u001b[0;32m    410\u001b[0m     \u001b[38;5;28;01mraise\u001b[39;00m \u001b[38;5;167;01mAttributeError\u001b[39;00m(__former_attrs__[attr], name\u001b[38;5;241m=\u001b[39m\u001b[38;5;28;01mNone\u001b[39;00m)\n\u001b[0;32m    412\u001b[0m \u001b[38;5;28;01mif\u001b[39;00m attr \u001b[38;5;129;01min\u001b[39;00m __expired_attributes__:\n\u001b[1;32m--> 413\u001b[0m     \u001b[38;5;28;01mraise\u001b[39;00m \u001b[38;5;167;01mAttributeError\u001b[39;00m(\n\u001b[0;32m    414\u001b[0m         \u001b[38;5;124mf\u001b[39m\u001b[38;5;124m\"\u001b[39m\u001b[38;5;124m`np.\u001b[39m\u001b[38;5;132;01m{\u001b[39;00mattr\u001b[38;5;132;01m}\u001b[39;00m\u001b[38;5;124m` was removed in the NumPy 2.0 release. \u001b[39m\u001b[38;5;124m\"\u001b[39m\n\u001b[0;32m    415\u001b[0m         \u001b[38;5;124mf\u001b[39m\u001b[38;5;124m\"\u001b[39m\u001b[38;5;132;01m{\u001b[39;00m__expired_attributes__[attr]\u001b[38;5;132;01m}\u001b[39;00m\u001b[38;5;124m\"\u001b[39m,\n\u001b[0;32m    416\u001b[0m         name\u001b[38;5;241m=\u001b[39m\u001b[38;5;28;01mNone\u001b[39;00m\n\u001b[0;32m    417\u001b[0m     )\n\u001b[0;32m    419\u001b[0m \u001b[38;5;28;01mif\u001b[39;00m attr \u001b[38;5;241m==\u001b[39m \u001b[38;5;124m\"\u001b[39m\u001b[38;5;124mchararray\u001b[39m\u001b[38;5;124m\"\u001b[39m:\n\u001b[0;32m    420\u001b[0m     warnings\u001b[38;5;241m.\u001b[39mwarn(\n\u001b[0;32m    421\u001b[0m         \u001b[38;5;124m\"\u001b[39m\u001b[38;5;124m`np.chararray` is deprecated and will be removed from \u001b[39m\u001b[38;5;124m\"\u001b[39m\n\u001b[0;32m    422\u001b[0m         \u001b[38;5;124m\"\u001b[39m\u001b[38;5;124mthe main namespace in the future. Use an array with a string \u001b[39m\u001b[38;5;124m\"\u001b[39m\n\u001b[0;32m    423\u001b[0m         \u001b[38;5;124m\"\u001b[39m\u001b[38;5;124mor bytes dtype instead.\u001b[39m\u001b[38;5;124m\"\u001b[39m, \u001b[38;5;167;01mDeprecationWarning\u001b[39;00m, stacklevel\u001b[38;5;241m=\u001b[39m\u001b[38;5;241m2\u001b[39m)\n",
      "\u001b[1;31mAttributeError\u001b[0m: `np.compat` was removed in the NumPy 2.0 release. There's no replacement, as Python 2 is no longer supported."
     ]
    }
   ],
   "source": [
    "import numpy as np\n",
    "import os\n",
    "\n",
    "# Створення dtype з додатковим полем 'group'\n",
    "dt = np.dtype([('name', np.compat.unicode, 20), ('mark', np.int8), ('group', np.compat.unicode, 10)])\n",
    "\n",
    "# Масив з іменами, оцінками та групами\n",
    "arr = [\n",
    "    (\"Bohdan\", 4, \"K-41\"),\n",
    "    (\"Marta\", 5, \"K-42\"),\n",
    "    (\"Noname\", 0, \"K-43\"),\n",
    "    (\"Vasylina\", 5, \"K-41\")  # Моє ім'я, оцінка та група\n",
    "]\n",
    "C = np.array(arr, dtype=dt)\n",
    "\n",
    "# Виведення масиву\n",
    "print(\"Вихідний масив: \", C)\n",
    "\n",
    "# Збереження масиву у .npz формат\n",
    "np.savez(\"my_mass.npz\", my_mass=C)\n",
    "D = np.load(\"my_mass.npz\")\n",
    "print(\"Прочитаний з файлу: \", D[\"my_mass\"])\n",
    "\n",
    "# Збереження масиву у CSV файл\n",
    "filename = \"temp.csv\"\n",
    "print(f\"Записуємо у CSV файл {filename} значення: {C}\")\n",
    "np.savetxt(filename, C, fmt=\"%s,%d,%s\", header=\"name,mark,group\", delimiter=\",\")\n",
    "\n",
    "# Перевірка чи файл був створений\n",
    "print(f\"Перевіряємо чи файл {filename} створився: {os.listdir()}\")\n",
    "\n",
    "# Читання CSV файлу за допомогою readlines\n",
    "print(\"Читаємо файл за допомогою оператора with та методу readlines\")\n",
    "with open(filename) as f:\n",
    "    D = f.readlines()\n",
    "\n",
    "print(f\"Прочитаний файл:\\n {D} \\n- як бачимо - {len(D)} елементи є стрічками {type(D[0])}.\")\n",
    "\n",
    "# Читання файлу з допомогою np.genfromtxt\n",
    "D = np.genfromtxt(filename, dtype=dt, delimiter=\",\", names=True)\n",
    "print(f\"Зчитане значення з файла:\\n {D}, як бачимо - {D.size} елементи це {type(D[0])} \\n- вбудований клас бібліотеки numpy.\")\n",
    "print(f\"Доступитись до певного елемента можна наступним чином, наприклад ім'я першого елементу: {D[0]['name']}\")\n",
    "\n",
    "# Homework\n",
    "homework(\"\"\"Створіть додаткове поле group - яке буде вказувавти групу. \n",
    "Допишіть Ваше імя, оцінку та групу до масиву. \n",
    "Збережіть та вичитайте дані у файл.\n",
    "Прочитайте саме Ваше імя з масиву.\"\"\")\n",
    "# Виведення мого імені\n",
    "print(f\"Ваше ім'я з масиву: {D[-1]['name']}\")\n"
   ]
  },
  {
   "cell_type": "markdown",
   "metadata": {},
   "source": [
    "### Виправлені коди з помилками"
   ]
  },
  {
   "cell_type": "code",
   "execution_count": 7,
   "metadata": {},
   "outputs": [
    {
     "name": "stdout",
     "output_type": "stream",
     "text": [
      "Вихідний масив:  [('Bohdan', 4, 'K-41') ('Marta', 5, 'K-42') ('Noname', 0, 'K-43')\n",
      " ('Yurij', 5, 'KN-41')]\n",
      "Прочитаний з файлу:  [('Bohdan', 4, 'K-41') ('Marta', 5, 'K-42') ('Noname', 0, 'K-43')\n",
      " ('Yurij', 5, 'KN-41')]\n",
      "Записуємо у CSV файл temp.csv значення: [('Bohdan', 4, 'K-41') ('Marta', 5, 'K-42') ('Noname', 0, 'K-43')\n",
      " ('Yurij', 5, 'KN-41')]\n",
      "Перевіряємо чи файл temp.csv створився: ['1_numpy.ipynb', '2_numpy_types.ipynb', 'my_mass.npz', 'README.md', 'temp.csv']\n",
      "Читаємо файл за допомогою оператора with та методу readlines\n",
      "Прочитаний файл:\n",
      " ['# name,mark,group\\n', 'Bohdan,4,K-41\\n', 'Marta,5,K-42\\n', 'Noname,0,K-43\\n', 'Yurij,5,KN-41\\n'] \n",
      "- як бачимо - 5 елементи є стрічками <class 'str'>.\n",
      "Зчитане значення з файла:\n",
      " [('Bohdan', 4, 'K-41') ('Marta', 5, 'K-42') ('Noname', 0, 'K-43')\n",
      " ('Yurij', 5, 'KN-41')], як бачимо - 4 елементи це <class 'numpy.void'> \n",
      "- вбудований клас бібліотеки numpy.\n",
      "Доступитись до певного елемента можна наступним чином, наприклад ім'я першого елементу: Bohdan\n",
      "\n",
      ">>>>> Створіть додаткове поле group - яке буде вказувавти групу. \n",
      "Допишіть Ваше імя, оцінку та групу до масиву. \n",
      "Збережіть та вичитайте дані у файл.\n",
      "Прочитайте саме Ваше імя з масиву. \n",
      "\n",
      "Ваше ім'я з масиву: Yurij\n"
     ]
    }
   ],
   "source": [
    "import numpy as np\n",
    "import os\n",
    "\n",
    "# Створення dtype з додатковим полем 'group'\n",
    "dt = np.dtype([('name', 'U20'), ('mark', np.int8), ('group', 'U10')])\n",
    "\n",
    "# Масив з іменами, оцінками та групами\n",
    "arr = [\n",
    "    (\"Bohdan\", 4, \"K-41\"),\n",
    "    (\"Marta\", 5, \"K-42\"),\n",
    "    (\"Noname\", 0, \"K-43\"),\n",
    "    (\"Yurij\", 5, \"KN-41\")  # Моє ім'я, оцінка та група\n",
    "]\n",
    "C = np.array(arr, dtype=dt)\n",
    "\n",
    "print(\"Вихідний масив: \", C)\n",
    "np.savez(\"my_mass.npz\", my_mass=C)\n",
    "D = np.load(\"my_mass.npz\")\n",
    "print(\"Прочитаний з файлу: \", D[\"my_mass\"])\n",
    "\n",
    "filename = \"temp.csv\"\n",
    "print(f\"Записуємо у CSV файл {filename} значення: {C}\")\n",
    "np.savetxt(filename, C, fmt=\"%s,%d,%s\", header=\"name,mark,group\", delimiter=\",\")\n",
    "\n",
    "print(f\"Перевіряємо чи файл {filename} створився: {os.listdir()}\")\n",
    "\n",
    "print(\"Читаємо файл за допомогою оператора with та методу readlines\")\n",
    "with open(filename) as f:\n",
    "    D = f.readlines()\n",
    "\n",
    "print(f\"Прочитаний файл:\\n {D} \\n- як бачимо - {len(D)} елементи є стрічками {type(D[0])}.\")\n",
    "\n",
    "D = np.genfromtxt(filename, dtype=dt, delimiter=\",\", names=True)\n",
    "print(f\"Зчитане значення з файла:\\n {D}, як бачимо - {D.size} елементи це {type(D[0])} \\n- вбудований клас бібліотеки numpy.\")\n",
    "print(f\"Доступитись до певного елемента можна наступним чином, наприклад ім'я першого елементу: {D[0]['name']}\")\n",
    "\n",
    "# Homework\n",
    "homework(\"\"\"Створіть додаткове поле group - яке буде вказувавти групу. \n",
    "Допишіть Ваше імя, оцінку та групу до масиву. \n",
    "Збережіть та вичитайте дані у файл.\n",
    "Прочитайте саме Ваше імя з масиву.\"\"\")\n",
    "# Виведення мого імені\n",
    "print(f\"Ваше ім'я з масиву: {D[-1]['name']}\")\n"
   ]
  },
  {
   "cell_type": "code",
   "execution_count": 8,
   "metadata": {},
   "outputs": [
    {
     "name": "stdout",
     "output_type": "stream",
     "text": [
      "Отриманий масив має вигляд:\n",
      "[('Bohdan', 4) ('Marta', 5) ('Noname', 0)]\n",
      "Доступитись до певної колонки тепер можна за її іменем: [4 5 0]\n",
      "\n",
      ">>>>> Як вивести всі імена присутні в даному масиві? \n",
      "\n",
      "Всі імена: ['Bohdan' 'Marta' 'Noname']\n"
     ]
    }
   ],
   "source": [
    "import numpy as np\n",
    "dt = np.dtype([('name', 'U20'), ('mark', np.int8)])\n",
    "arr = [\n",
    "    (\"Bohdan\", 4), \n",
    "    (\"Marta\", 5),\n",
    "    (\"Noname\", 0)\n",
    "    ]\n",
    "C = np.array(arr, dtype=dt)\n",
    "print(f\"Отриманий масив має вигляд:\\n{C}\")\n",
    "print(f\"Доступитись до певної колонки тепер можна за її іменем: {C['mark']}\")\n",
    "\n",
    "# Homework\n",
    "homework(\"Як вивести всі імена присутні в даному масиві?\")\n",
    "print(f\"Всі імена: {C['name']}\")"
   ]
  }
 ],
 "metadata": {
  "kernelspec": {
   "display_name": "Python 3",
   "language": "python",
   "name": "python3"
  },
  "language_info": {
   "codemirror_mode": {
    "name": "ipython",
    "version": 3
   },
   "file_extension": ".py",
   "mimetype": "text/x-python",
   "name": "python",
   "nbconvert_exporter": "python",
   "pygments_lexer": "ipython3",
   "version": "3.12.6"
  },
  "orig_nbformat": 4,
  "vscode": {
   "interpreter": {
    "hash": "aee8b7b246df8f9039afb4144a1f6fd8d2ca17a180786b69acc140d282b71a49"
   }
  }
 },
 "nbformat": 4,
 "nbformat_minor": 2
}
